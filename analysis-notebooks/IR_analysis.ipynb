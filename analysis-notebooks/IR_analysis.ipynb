{
 "cells": [
  {
   "cell_type": "code",
   "execution_count": 2,
   "metadata": {},
   "outputs": [],
   "source": [
    "import pickle\n",
    "import numpy as np\n",
    "import matplotlib.pyplot as plt\n",
    "from scipy.fft import fft, rfft, rfftfreq\n",
    "from scipy.signal.windows import gaussian\n",
    "from scipy.signal import convolve"
   ]
  },
  {
   "cell_type": "code",
   "execution_count": 3,
   "metadata": {},
   "outputs": [],
   "source": [
    "# from util_fft import *\n",
    "def fftcrosscorr(x,y,dlen=10000):\n",
    "    \n",
    "        # make sure that we have odd number of signals as it makes fft easier\n",
    "    if (dlen%2 == 0):\n",
    "        dlen -= 1\n",
    "        #x.append(x[0])\n",
    "        #y.append(y[0])\n",
    "        \n",
    "    # the fft coecofficents of the crosscorrelation function c_xy(t)\n",
    "    dt = x[1,0] - x[0,0] # assume the timestep is constant\n",
    "    window = len(x)//dlen\n",
    "    omega0 = 2.0*np.pi/(dlen-1)/dt\n",
    "    cxyomega = np.zeros((dlen,2),dtype=np.complex_)\n",
    "    cxyomega[0:dlen//2 + 1,0] = np.arange(dlen//2 + 1)*omega0\n",
    "    cxyomega[dlen//2 + 1:,0] = np.arange(dlen//2,0,-1)*omega0*-1\n",
    "    \n",
    "    for i in range(window):\n",
    "        dx = x[i*dlen:(i+1)*dlen,1] \n",
    "        dy = y[i*dlen:(i+1)*dlen,1]\n",
    "        Ax = np.fft.fft(dx[:] , axis = 0)\n",
    "        Ay = np.fft.fft(dy[:] , axis = 0)\n",
    "\n",
    "        cxyomega[:,1] += np.conjugate(Ax[:]) * Ay[:]/dlen*dt\n",
    "        \n",
    "    for i in range(window-1):\n",
    "        dx = x[i*dlen+dlen//2:(i+1)*dlen+dlen//2,1] \n",
    "        dy = y[i*dlen+dlen//2:(i+1)*dlen+dlen//2,1]\n",
    "        Ax = np.fft.fft(dx[:] , axis = 0)\n",
    "        Ay = np.fft.fft(dy[:] , axis = 0)\n",
    "\n",
    "        cxyomega[:,1] += np.conjugate(Ax[:]) * Ay[:]/dlen*dt\n",
    "        \n",
    "    cxyomega[:,1]/=(window*2-1)\n",
    "    return cxyomega\n",
    "\n",
    "def smooth_signal(signal, window_size=51, sigma=7):\n",
    "    # Gaussian kernel for convolution and normalization\n",
    "    kernel = gaussian(window_size, std=sigma)\n",
    "    kernel /= np.sum(kernel)\n",
    "    smooth_signal = convolve(signal, kernel, mode='same')\n",
    "    return smooth_signal"
   ]
  },
  {
   "cell_type": "code",
   "execution_count": null,
   "metadata": {},
   "outputs": [],
   "source": [
    "def IR_plot(total_dP, dt=0.50, dlen=10000, length=800, window_size=30, sigma=3):\n",
    "    dPt = np.zeros((len(total_dP), 4))\n",
    "    dPt[:,0] = np.arange(len(total_dP)) * dt\n",
    "    dPt[:,1:4] = total_dP\n",
    "    ft_x = fftcrosscorr(dPt[:, [0, 1]], dPt[:, [0, 1]], dlen=dlen)\n",
    "    ft_y = fftcrosscorr(dPt[:, [0, 2]], dPt[:, [0, 2]], dlen=dlen)\n",
    "    ft_z = fftcrosscorr(dPt[:, [0, 3]], dPt[:, [0, 3]], dlen=dlen)\n",
    "\n",
    "    omega = ft_x[:,0] *1e15/2.99792458e10/(2*np.pi)\n",
    "    ft_avg = (ft_x[:,1] + ft_y[:,1] + ft_z[:,1])/3\n",
    "    smooth_inten = smooth_signal(ft_avg, window_size=window_size, sigma=sigma)\n",
    "    return omega[:length], ft_avg[:length], smooth_inten[:length]\n",
    "\n",
    "def normarlize_area(omega, intensity):\n",
    "    area = np.trapz(intensity, omega)\n",
    "    return intensity/area"
   ]
  },
  {
   "cell_type": "markdown",
   "metadata": {},
   "source": [
    "### test"
   ]
  },
  {
   "cell_type": "code",
   "execution_count": null,
   "metadata": {},
   "outputs": [],
   "source": [
    "#NVE, 0.5fs, 200000, Nose-Hoover\n",
    "pickle_file = '/Users/djkim/Desktop/sync_from_brc/water_MD/water_MD_5/bec_dict_cpu.pkl'\n",
    "with open(pickle_file, 'rb') as f:\n",
    "    bec_dict = pickle.load(f)\n",
    "total_dP = bec_dict['total_dp'] # shape = (N_traj, 3)\n",
    "omega_5, ft_avg_5, smooth_inten_5 = IR_plot(total_dP, dt=0.50, dlen=10000, length=800, window_size=30, sigma=3)\n",
    "\n",
    "#r_4.5, 25fs, 200000, NVT, z=0.20\n",
    "pickle_file = '/Users/djkim/Desktop/sync_from_brc/IR_compare/r_4.5_redo/z_field/z_0.20/bec_dict.pkl'\n",
    "with open(pickle_file, 'rb') as f:\n",
    "    bec_dict = pickle.load(f)\n",
    "total_dP = bec_dict['total_dp']\n",
    "omega_r45_25_z02, ft_avg_r45_25_z02, inten_r45_25_z02 = IR_plot(total_dP, dt=0.25, dlen=5000, length=400, window_size=30, sigma=5)"
   ]
  },
  {
   "cell_type": "code",
   "execution_count": null,
   "metadata": {},
   "outputs": [],
   "source": [
    "# norm_inten_r45_25_z0025 = normarlize_area(omega_r45_25_z0025, inten_r45_25_z0025)\n",
    "# plt.plot(omega_r45_25_z0025, norm_inten_r45_25_z0025,\n",
    "#             color='red', alpha=0.7,\n",
    "#             label='E+F, $r_{cutoff}=4.5$, $E^{ext}_{z}=0.025 V/Å$',\n",
    "#             )\n",
    "\n",
    "# plt.legend(frameon=False, prop={'size': 10, 'family': 'DejaVu Sans'})\n",
    "# plt.xlabel(\"Wavenumber (cm$^{-1}$)\", )\n",
    "# plt.ylabel(\"Intensity (a.u.)\")\n",
    "# plt.yticks([])\n",
    "# plt.legend()\n",
    "# plt.xlim(0, 4000)\n",
    "# plt.ylim(0, None)"
   ]
  }
 ],
 "metadata": {
  "kernelspec": {
   "display_name": "torch",
   "language": "python",
   "name": "python3"
  },
  "language_info": {
   "codemirror_mode": {
    "name": "ipython",
    "version": 3
   },
   "file_extension": ".py",
   "mimetype": "text/x-python",
   "name": "python",
   "nbconvert_exporter": "python",
   "pygments_lexer": "ipython3",
   "version": "3.10.15"
  }
 },
 "nbformat": 4,
 "nbformat_minor": 2
}
